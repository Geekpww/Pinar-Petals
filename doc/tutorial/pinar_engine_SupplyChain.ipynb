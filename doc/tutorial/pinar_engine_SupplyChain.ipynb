{
 "cells": [
  {
   "cell_type": "markdown",
   "metadata": {},
   "source": [
    "# SupplyChain class"
   ]
  },
  {
   "cell_type": "code",
   "execution_count": 2,
   "metadata": {},
   "outputs": [],
   "source": [
    "import numpy as np\n",
    "import pandas as pd\n",
    "from pinar.hazard import TCTracks, TropCyclone, Centroids\n",
    "from pinar.entity import ImpactFuncSet, ImpfTropCyclone\n",
    "from pinar_petals.engine import SupplyChain"
   ]
  },
  {
   "cell_type": "markdown",
   "metadata": {},
   "source": [
    "This tutorial shows how to use the `SupplyChain` class of PINAR. This class allows assessing indirect impacts via Input-Output modeling. Before diving into this class, it is highly recommended the user first familiarizes herself with the `Exposures`, `Hazard` and `Impact` classes."
   ]
  },
  {
   "cell_type": "markdown",
   "metadata": {},
   "source": [
    "## 1. Load Multi-Regional Input-Output Tables (MRIOT) data."
   ]
  },
  {
   "cell_type": "markdown",
   "metadata": {},
   "source": [
    "At first, one needs to load Input Output data. `SupplyChain` has a function to download and read multi-regional input-output tables (MRIOT) from the 2016 release of WIOD project (www.wiod.org). Yearly WIOT tables are available for the period 2000-2014. A table is automatically downloaded the first time it is used."
   ]
  },
  {
   "cell_type": "code",
   "execution_count": 3,
   "metadata": {
    "scrolled": true
   },
   "outputs": [],
   "source": [
    "supplychain = SupplyChain()\n",
    "supplychain.read_wiod16(year=2012)"
   ]
  },
  {
   "cell_type": "markdown",
   "metadata": {},
   "source": [
    "Let's now look at what data are now loaded into `SupplyChain`, i.e. modelled countries, sectors and IO data structure."
   ]
  },
  {
   "cell_type": "code",
   "execution_count": 4,
   "metadata": {},
   "outputs": [
    {
     "data": {
      "text/plain": [
       "array(['AUS', 'AUT', 'BEL', 'BGR', 'BRA', 'CAN', 'CHE', 'CHN', 'CYP',\n",
       "       'CZE', 'DEU', 'DNK', 'ESP', 'EST', 'FIN', 'FRA', 'GBR', 'GRC',\n",
       "       'HRV', 'HUN', 'IDN', 'IND', 'IRL', 'ITA', 'JPN', 'KOR', 'LTU',\n",
       "       'LUX', 'LVA', 'MEX', 'MLT', 'NLD', 'NOR', 'POL', 'PRT', 'ROU',\n",
       "       'RUS', 'SVK', 'SVN', 'SWE', 'TUR', 'TWN', 'USA', 'ROW'],\n",
       "      dtype=object)"
      ]
     },
     "execution_count": 4,
     "metadata": {},
     "output_type": "execute_result"
    }
   ],
   "source": [
    "supplychain.mriot_reg_names"
   ]
  },
  {
   "cell_type": "markdown",
   "metadata": {},
   "source": [
    "There are 43 countries plus 1. The additional \"country\" refers to all countries not explicitly modeled which are aggregated into a Rest of World (ROW) \"country\"."
   ]
  },
  {
   "cell_type": "code",
   "execution_count": 5,
   "metadata": {},
   "outputs": [
    {
     "data": {
      "text/plain": [
       "array(['Crop and animal production, hunting and related service activities',\n",
       "       'Forestry and logging', 'Fishing and aquaculture',\n",
       "       'Mining and quarrying',\n",
       "       'Manufacture of food products, beverages and tobacco products',\n",
       "       'Manufacture of textiles, wearing apparel and leather products',\n",
       "       'Manufacture of wood and of products of wood and cork, except furniture; manufacture of articles of straw and plaiting materials',\n",
       "       'Manufacture of paper and paper products',\n",
       "       'Printing and reproduction of recorded media',\n",
       "       'Manufacture of coke and refined petroleum products ',\n",
       "       'Manufacture of chemicals and chemical products ',\n",
       "       'Manufacture of basic pharmaceutical products and pharmaceutical preparations',\n",
       "       'Manufacture of rubber and plastic products',\n",
       "       'Manufacture of other non-metallic mineral products',\n",
       "       'Manufacture of basic metals',\n",
       "       'Manufacture of fabricated metal products, except machinery and equipment',\n",
       "       'Manufacture of computer, electronic and optical products',\n",
       "       'Manufacture of electrical equipment',\n",
       "       'Manufacture of machinery and equipment n.e.c.',\n",
       "       'Manufacture of motor vehicles, trailers and semi-trailers',\n",
       "       'Manufacture of other transport equipment',\n",
       "       'Manufacture of furniture; other manufacturing',\n",
       "       'Repair and installation of machinery and equipment',\n",
       "       'Electricity, gas, steam and air conditioning supply',\n",
       "       'Water collection, treatment and supply',\n",
       "       'Sewerage; waste collection, treatment and disposal activities; materials recovery; remediation activities and other waste management services ',\n",
       "       'Construction',\n",
       "       'Wholesale and retail trade and repair of motor vehicles and motorcycles',\n",
       "       'Wholesale trade, except of motor vehicles and motorcycles',\n",
       "       'Retail trade, except of motor vehicles and motorcycles',\n",
       "       'Land transport and transport via pipelines', 'Water transport',\n",
       "       'Air transport',\n",
       "       'Warehousing and support activities for transportation',\n",
       "       'Postal and courier activities',\n",
       "       'Accommodation and food service activities',\n",
       "       'Publishing activities',\n",
       "       'Motion picture, video and television programme production, sound recording and music publishing activities; programming and broadcasting activities',\n",
       "       'Telecommunications',\n",
       "       'Computer programming, consultancy and related activities; information service activities',\n",
       "       'Financial service activities, except insurance and pension funding',\n",
       "       'Insurance, reinsurance and pension funding, except compulsory social security',\n",
       "       'Activities auxiliary to financial services and insurance activities',\n",
       "       'Real estate activities',\n",
       "       'Legal and accounting activities; activities of head offices; management consultancy activities',\n",
       "       'Architectural and engineering activities; technical testing and analysis',\n",
       "       'Scientific research and development',\n",
       "       'Advertising and market research',\n",
       "       'Other professional, scientific and technical activities; veterinary activities',\n",
       "       'Administrative and support service activities',\n",
       "       'Public administration and defence; compulsory social security',\n",
       "       'Education', 'Human health and social work activities',\n",
       "       'Other service activities',\n",
       "       'Activities of households as employers; undifferentiated goods- and services-producing activities of households for own use',\n",
       "       'Activities of extraterritorial organizations and bodies'],\n",
       "      dtype=object)"
      ]
     },
     "execution_count": 5,
     "metadata": {},
     "output_type": "execute_result"
    }
   ],
   "source": [
    "supplychain.sectors"
   ]
  },
  {
   "cell_type": "code",
   "execution_count": 6,
   "metadata": {},
   "outputs": [
    {
     "name": "stdout",
     "output_type": "stream",
     "text": [
      "(56,)\n"
     ]
    }
   ],
   "source": [
    "print(supplychain.sectors.shape)"
   ]
  },
  {
   "cell_type": "markdown",
   "metadata": {},
   "source": [
    "There are 56 economic sectors. These sectors can also be grouped into higher-level sectors. For instance, in the aftermath we will model the service sector which will include the following sectors:"
   ]
  },
  {
   "cell_type": "code",
   "execution_count": 7,
   "metadata": {},
   "outputs": [
    {
     "data": {
      "text/plain": [
       "array(['Construction',\n",
       "       'Wholesale and retail trade and repair of motor vehicles and motorcycles',\n",
       "       'Wholesale trade, except of motor vehicles and motorcycles',\n",
       "       'Retail trade, except of motor vehicles and motorcycles',\n",
       "       'Land transport and transport via pipelines', 'Water transport',\n",
       "       'Air transport',\n",
       "       'Warehousing and support activities for transportation',\n",
       "       'Postal and courier activities',\n",
       "       'Accommodation and food service activities',\n",
       "       'Publishing activities',\n",
       "       'Motion picture, video and television programme production, sound recording and music publishing activities; programming and broadcasting activities',\n",
       "       'Telecommunications',\n",
       "       'Computer programming, consultancy and related activities; information service activities',\n",
       "       'Financial service activities, except insurance and pension funding',\n",
       "       'Insurance, reinsurance and pension funding, except compulsory social security',\n",
       "       'Activities auxiliary to financial services and insurance activities',\n",
       "       'Real estate activities',\n",
       "       'Legal and accounting activities; activities of head offices; management consultancy activities',\n",
       "       'Architectural and engineering activities; technical testing and analysis',\n",
       "       'Scientific research and development',\n",
       "       'Advertising and market research',\n",
       "       'Other professional, scientific and technical activities; veterinary activities',\n",
       "       'Administrative and support service activities',\n",
       "       'Public administration and defence; compulsory social security',\n",
       "       'Education', 'Human health and social work activities',\n",
       "       'Other service activities',\n",
       "       'Activities of households as employers; undifferentiated goods- and services-producing activities of households for own use',\n",
       "       'Activities of extraterritorial organizations and bodies'],\n",
       "      dtype=object)"
      ]
     },
     "execution_count": 7,
     "metadata": {},
     "output_type": "execute_result"
    }
   ],
   "source": [
    "supplychain.sectors[range(26,56)]"
   ]
  },
  {
   "cell_type": "markdown",
   "metadata": {},
   "source": [
    "Whether to aggregate sectors into main sectors and how to do it is up to the user, according to the application of interest and data availability. Default settings are available in PINAR based on the built-in datasets. These will be introduced below when calculating direct damages."
   ]
  },
  {
   "cell_type": "code",
   "execution_count": 8,
   "metadata": {},
   "outputs": [
    {
     "data": {
      "text/plain": [
       "array([[11105.733356382272, 315.7113177373571, 179.43254266338693, ...,\n",
       "        9.093853356314124, 0, 1.1873518978687656e-06],\n",
       "       [116.88308162207898, 139.3046230501366, 0.4165797269551787, ...,\n",
       "        0.016109951596559337, 0, 2.9150840971500206e-08],\n",
       "       [22.556627754337466, 0.011392711240065655, 23.191690635397794,\n",
       "        ..., 0.02463511351049634, 0, 2.9671358991110717e-09],\n",
       "       ...,\n",
       "       [2.0888621906340483, 0.06898124909560921, 0.18736619171021462,\n",
       "        ..., 15914.85428702459, 0, 0.7881946937807305],\n",
       "       [0.041425098917944464, 4.0179492086967524e-05,\n",
       "        0.00019545212518185459, ..., 0, 0, 0],\n",
       "       [0, 0, 0, ..., 0, 0, 0]], dtype=object)"
      ]
     },
     "execution_count": 8,
     "metadata": {},
     "output_type": "execute_result"
    }
   ],
   "source": [
    "supplychain.mriot_data"
   ]
  },
  {
   "cell_type": "code",
   "execution_count": 9,
   "metadata": {},
   "outputs": [
    {
     "data": {
      "text/plain": [
       "(2464, 2464)"
      ]
     },
     "execution_count": 9,
     "metadata": {},
     "output_type": "execute_result"
    }
   ],
   "source": [
    "supplychain.mriot_data.shape"
   ]
  },
  {
   "cell_type": "markdown",
   "metadata": {},
   "source": [
    "The MRIO table is a squared matrix with columns (and rows) equal to the number of economic sectors times the number of modeled countries, i.e. 56x44 = 2464. Each column (row) reports input (output) data of *all* sectors of *a given* country until all countries are reported. The total production from all subsectors of all countries is:"
   ]
  },
  {
   "cell_type": "code",
   "execution_count": 10,
   "metadata": {},
   "outputs": [
    {
     "data": {
      "text/plain": [
       "array([71514.7394, 2525.2804, 3080.4692, ..., 409216.80039034015,\n",
       "       21108.22611227322, 33.03248952629331], dtype=object)"
      ]
     },
     "execution_count": 10,
     "metadata": {},
     "output_type": "execute_result"
    }
   ],
   "source": [
    "supplychain.total_prod"
   ]
  },
  {
   "cell_type": "code",
   "execution_count": 11,
   "metadata": {},
   "outputs": [
    {
     "name": "stdout",
     "output_type": "stream",
     "text": [
      "(2464,)\n"
     ]
    }
   ],
   "source": [
    "print(supplychain.total_prod.shape)"
   ]
  },
  {
   "cell_type": "markdown",
   "metadata": {},
   "source": [
    "The following dict allows accessing mriot data of single countries:"
   ]
  },
  {
   "cell_type": "code",
   "execution_count": 12,
   "metadata": {},
   "outputs": [
    {
     "data": {
      "text/plain": [
       "{'AUS': range(0, 56),\n",
       " 'AUT': range(56, 112),\n",
       " 'BEL': range(112, 168),\n",
       " 'BGR': range(168, 224),\n",
       " 'BRA': range(224, 280),\n",
       " 'CAN': range(280, 336),\n",
       " 'CHE': range(336, 392),\n",
       " 'CHN': range(392, 448),\n",
       " 'CYP': range(448, 504),\n",
       " 'CZE': range(504, 560),\n",
       " 'DEU': range(560, 616),\n",
       " 'DNK': range(616, 672),\n",
       " 'ESP': range(672, 728),\n",
       " 'EST': range(728, 784),\n",
       " 'FIN': range(784, 840),\n",
       " 'FRA': range(840, 896),\n",
       " 'GBR': range(896, 952),\n",
       " 'GRC': range(952, 1008),\n",
       " 'HRV': range(1008, 1064),\n",
       " 'HUN': range(1064, 1120),\n",
       " 'IDN': range(1120, 1176),\n",
       " 'IND': range(1176, 1232),\n",
       " 'IRL': range(1232, 1288),\n",
       " 'ITA': range(1288, 1344),\n",
       " 'JPN': range(1344, 1400),\n",
       " 'KOR': range(1400, 1456),\n",
       " 'LTU': range(1456, 1512),\n",
       " 'LUX': range(1512, 1568),\n",
       " 'LVA': range(1568, 1624),\n",
       " 'MEX': range(1624, 1680),\n",
       " 'MLT': range(1680, 1736),\n",
       " 'NLD': range(1736, 1792),\n",
       " 'NOR': range(1792, 1848),\n",
       " 'POL': range(1848, 1904),\n",
       " 'PRT': range(1904, 1960),\n",
       " 'ROU': range(1960, 2016),\n",
       " 'RUS': range(2016, 2072),\n",
       " 'SVK': range(2072, 2128),\n",
       " 'SVN': range(2128, 2184),\n",
       " 'SWE': range(2184, 2240),\n",
       " 'TUR': range(2240, 2296),\n",
       " 'TWN': range(2296, 2352),\n",
       " 'USA': range(2352, 2408),\n",
       " 'ROW': range(2408, 2464)}"
      ]
     },
     "execution_count": 12,
     "metadata": {},
     "output_type": "execute_result"
    }
   ],
   "source": [
    "supplychain.reg_pos"
   ]
  },
  {
   "cell_type": "markdown",
   "metadata": {},
   "source": [
    "For example, focusing on Switzerland, to find output data from all swiss sectors one can do:"
   ]
  },
  {
   "cell_type": "code",
   "execution_count": 13,
   "metadata": {},
   "outputs": [
    {
     "data": {
      "text/plain": [
       "array([[0.16796253031842162, 0.004777144111849153, 0.002736270353709005,\n",
       "        ..., 0.12834852430129112, 0, 1.6758007628524304e-08],\n",
       "       [8.51026746906875e-05, 7.127402684742127e-05,\n",
       "        1.9350907062673556e-06, ..., 0.0007570977491247835, 0,\n",
       "        1.3699629047508064e-09],\n",
       "       [4.7138344808091295e-05, 9.671160838557614e-09,\n",
       "        6.697562625578982e-05, ..., 0.0009232593169242273, 0,\n",
       "        1.1120045630264473e-10],\n",
       "       ...,\n",
       "       [0.008508978608710327, 3.1972146323171236e-05,\n",
       "        0.00046072292226048554, ..., 0.029862336991154915, 0,\n",
       "        1.4789538839516966e-06],\n",
       "       [9.500104969801383e-07, 0, 0, ..., 0, 0, 0],\n",
       "       [0, 0, 0, ..., 0, 0, 0]], dtype=object)"
      ]
     },
     "execution_count": 13,
     "metadata": {},
     "output_type": "execute_result"
    }
   ],
   "source": [
    "supplychain.mriot_data[supplychain.reg_pos['CHE']]"
   ]
  },
  {
   "cell_type": "markdown",
   "metadata": {},
   "source": [
    "Similarly, one can find the total production of all Swiss sectors:"
   ]
  },
  {
   "cell_type": "code",
   "execution_count": 14,
   "metadata": {},
   "outputs": [
    {
     "data": {
      "text/plain": [
       "array([10884.279940160777, 674.088481002245, 41.224100570050936,\n",
       "       2054.5309263989934, 39841.6239844894, 3648.168376381703,\n",
       "       8480.201098809475, 3688.826352338922, 4255.674165800708,\n",
       "       3501.317455453859, 18363.278595872554, 78379.69147195964,\n",
       "       8150.894879859878, 7447.266269845102, 5718.605069058962,\n",
       "       20135.29803849402, 66467.12373541784, 22646.288496050656,\n",
       "       31162.492702290187, 2178.324505028241, 5869.153355999175,\n",
       "       10800.277292026229, 4680.307868675113, 48856.01258517912,\n",
       "       5780.830493280612, 0, 77613.75291956161, 14161.940349695808,\n",
       "       125376.47352416613, 42389.765628680085, 41523.925997007325,\n",
       "       1039.0976694128697, 13234.059687011602, 17225.389030894996,\n",
       "       8050.766299432082, 24044.706531639047, 10080.003387207098, 0,\n",
       "       17138.91756562977, 27213.104595857796, 63105.9204496511,\n",
       "       45928.766683415735, 0, 65051.40098246406, 60745.78454637557, 0,\n",
       "       19266.754769461568, 0, 9057.661417570102, 31139.843888469703,\n",
       "       63363.23886998102, 41714.31400559072, 69213.80028365219,\n",
       "       24057.595454974882, 2126.7054909496537, 0], dtype=object)"
      ]
     },
     "execution_count": 14,
     "metadata": {},
     "output_type": "execute_result"
    }
   ],
   "source": [
    "supplychain.total_prod[supplychain.reg_pos['CHE']]"
   ]
  },
  {
   "cell_type": "markdown",
   "metadata": {},
   "source": [
    "## 2. Define Hazard, Exposure and Vulnerability"
   ]
  },
  {
   "cell_type": "markdown",
   "metadata": {},
   "source": [
    "Let's now define hazard, exposure and vulnerability. This is handled via the related PINAR classes. In this tutorial we use `LitPop` for exposure and `TropCyclone` for hazard which we load from the [PINAR Data API](https://github.com/PINAR-project/pinar_python/blob/main/doc/tutorial/pinar_util_api_client.ipynb)."
   ]
  },
  {
   "cell_type": "code",
   "execution_count": 3,
   "metadata": {},
   "outputs": [],
   "source": [
    "from pinar.util.api_client import Client\n",
    "client = Client()"
   ]
  },
  {
   "cell_type": "markdown",
   "metadata": {},
   "source": [
    "We will focus on the impact of tropical cyclones affecting the Philippines, Taiwan, Vietnam and Japan in 2012 and 2013. Japan and Taiwan are modeled explicitly by the MRIO table, while the Philippines and Vietnam are modeled as Rest of World, they are thus aggregated into a single country."
   ]
  },
  {
   "cell_type": "code",
   "execution_count": 21,
   "metadata": {},
   "outputs": [
    {
     "name": "stdout",
     "output_type": "stream",
     "text": [
      "2022-05-18 14:27:23,357 - pinar.entity.exposures.base - INFO - Reading /Users/szelie/pinar/data/exposures/litpop/LitPop_150arcsec_PHL/v1/LitPop_150arcsec_PHL.hdf5\n",
      "2022-05-18 14:27:24,713 - pinar.entity.exposures.base - INFO - Reading /Users/szelie/pinar/data/exposures/litpop/LitPop_150arcsec_TWN/v1/LitPop_150arcsec_TWN.hdf5\n",
      "2022-05-18 14:27:25,865 - pinar.entity.exposures.base - INFO - Reading /Users/szelie/pinar/data/exposures/litpop/LitPop_150arcsec_VNM/v1/LitPop_150arcsec_VNM.hdf5\n",
      "2022-05-18 14:27:27,333 - pinar.entity.exposures.base - INFO - Reading /Users/szelie/pinar/data/exposures/litpop/LitPop_150arcsec_JPN/v1/LitPop_150arcsec_JPN.hdf5\n"
     ]
    }
   ],
   "source": [
    "from pinar.entity import Exposures\n",
    "\n",
    "countries = ['PHL', 'TWN', 'VNM', 'JPN']\n",
    "exp_lp = Exposures.concat([client.get_litpop_default(country) for country in countries])"
   ]
  },
  {
   "cell_type": "code",
   "execution_count": 22,
   "metadata": {
    "scrolled": false
   },
   "outputs": [
    {
     "name": "stderr",
     "output_type": "stream",
     "text": [
      "/Users/szelie/miniconda3/envs/pinar_env/lib/python3.8/site-packages/pyproj/crs/crs.py:1256: UserWarning: You will likely lose important projection information when converting to a PROJ string from another format. See: https://proj.org/faq.html#what-is-the-best-format-for-describing-coordinate-reference-systems\n",
      "  return self._crs.to_proj4(version=version)\n"
     ]
    },
    {
     "data": {
      "image/png": "[encoded data removed]",
      "text/plain": [
       "<Figure size 648x936 with 2 Axes>"
      ]
     },
     "metadata": {
      "needs_background": "light"
     },
     "output_type": "display_data"
    }
   ],
   "source": [
    "exp_lp.plot_hexbin(pop_name=False);"
   ]
  },
  {
   "cell_type": "code",
   "execution_count": null,
   "metadata": {},
   "outputs": [],
   "source": [
    "tc_tracks=TCTracks.from_ibtracs_netcdf(year_range=(2012,2013), basin='WP')"
   ]
  },
  {
   "cell_type": "code",
   "execution_count": null,
   "metadata": {},
   "outputs": [],
   "source": [
    "tc_tracks.plot();"
   ]
  },
  {
   "cell_type": "code",
   "execution_count": null,
   "metadata": {},
   "outputs": [],
   "source": [
    "centr = Centroids.from_lat_lon(exp_lp.gdf.latitude.values, exp_lp.gdf.longitude.values)"
   ]
  },
  {
   "cell_type": "code",
   "execution_count": null,
   "metadata": {},
   "outputs": [],
   "source": [
    "tc_cyclone = TropCyclone.from_tracks(tracks=tc_tracks, centroids=centr)"
   ]
  },
  {
   "cell_type": "code",
   "execution_count": 26,
   "metadata": {},
   "outputs": [
    {
     "name": "stdout",
     "output_type": "stream",
     "text": [
      "2022-05-18 14:33:09,702 - pinar.hazard.base - INFO - Reading /Users/szelie/pinar/data/hazard/tropical_cyclone/tropical_cyclone_10synth_tracks_150arcsec_PHL_1980_2020/v1/tropical_cyclone_10synth_tracks_150arcsec_PHL_1980_2020.hdf5\n",
      "2022-05-18 14:33:14,001 - pinar.hazard.base - INFO - Reading /Users/szelie/pinar/data/hazard/tropical_cyclone/tropical_cyclone_10synth_tracks_150arcsec_TWN_1980_2020/v1/tropical_cyclone_10synth_tracks_150arcsec_TWN_1980_2020.hdf5\n",
      "2022-05-18 14:33:18,387 - pinar.hazard.base - INFO - Reading /Users/szelie/pinar/data/hazard/tropical_cyclone/tropical_cyclone_10synth_tracks_150arcsec_VNM_1980_2020/v1/tropical_cyclone_10synth_tracks_150arcsec_VNM_1980_2020.hdf5\n",
      "2022-05-18 14:33:22,799 - pinar.hazard.base - INFO - Reading /Users/szelie/pinar/data/hazard/tropical_cyclone/tropical_cyclone_10synth_tracks_150arcsec_JPN_1980_2020/v1/tropical_cyclone_10synth_tracks_150arcsec_JPN_1980_2020.hdf5\n",
      "2022-05-18 14:33:23,059 - pinar.util.coordinates - INFO - No exact centroid match found. Reprojecting coordinates to nearest neighbor closer than the threshold = 0\n",
      "2022-05-18 14:33:23,074 - pinar.util.coordinates - INFO - No exact centroid match found. Reprojecting coordinates to nearest neighbor closer than the threshold = 0\n",
      "2022-05-18 14:33:23,087 - pinar.util.coordinates - INFO - No exact centroid match found. Reprojecting coordinates to nearest neighbor closer than the threshold = 0\n",
      "2022-05-18 14:33:23,105 - pinar.util.coordinates - INFO - No exact centroid match found. Reprojecting coordinates to nearest neighbor closer than the threshold = 0\n"
     ]
    }
   ],
   "source": [
    "from pinar.hazard import Hazard\n",
    "tc_cyclone = Hazard.concat([client.get_hazard('tropical_cyclone', properties={'country_iso3alpha':country,'climate_scenario':'historical','nb_synth_tracks':'10'}) for country in countries])"
   ]
  },
  {
   "cell_type": "code",
   "execution_count": 27,
   "metadata": {},
   "outputs": [
    {
     "name": "stderr",
     "output_type": "stream",
     "text": [
      "/Users/szelie/miniconda3/envs/pinar_env/lib/python3.8/site-packages/pyproj/crs/crs.py:1256: UserWarning: You will likely lose important projection information when converting to a PROJ string from another format. See: https://proj.org/faq.html#what-is-the-best-format-for-describing-coordinate-reference-systems\n",
      "  return self._crs.to_proj4(version=version)\n"
     ]
    },
    {
     "data": {
      "image/png": "[encoded data removed]",
      "text/plain": [
       "<Figure size 648x936 with 2 Axes>"
      ]
     },
     "metadata": {
      "needs_background": "light"
     },
     "output_type": "display_data"
    }
   ],
   "source": [
    "tc_cyclone.plot_intensity(event=0);"
   ]
  },
  {
   "cell_type": "code",
   "execution_count": 28,
   "metadata": {},
   "outputs": [
    {
     "name": "stdout",
     "output_type": "stream",
     "text": [
      "2022-05-18 14:33:50,697 - pinar.entity.impact_funcs.base - WARNING - For intensity = 0, mdd != 0 or paa != 0. Consider shifting the origin of the intensity scale. In impact.calc the impact is always null at intensity = 0.\n"
     ]
    }
   ],
   "source": [
    "impf_tc = ImpfTropCyclone.from_emanuel_usa()\n",
    "\n",
    "# add the impact function to an Impact function set\n",
    "impf_set = ImpactFuncSet()\n",
    "impf_set.append(impf_tc)\n",
    "impf_set.check()"
   ]
  },
  {
   "cell_type": "code",
   "execution_count": 29,
   "metadata": {},
   "outputs": [
    {
     "name": "stdout",
     "output_type": "stream",
     "text": [
      "2022-05-18 14:33:59,389 - pinar.entity.exposures.base - INFO - category_id not set.\n",
      "2022-05-18 14:33:59,390 - pinar.entity.exposures.base - INFO - cover not set.\n",
      "2022-05-18 14:33:59,391 - pinar.entity.exposures.base - INFO - deductible not set.\n",
      "2022-05-18 14:33:59,392 - pinar.entity.exposures.base - INFO - centr_ not set.\n"
     ]
    }
   ],
   "source": [
    "[haz_type] = impf_set.get_hazard_types()\n",
    "[haz_id] = impf_set.get_ids()[haz_type]\n",
    "\n",
    "# Exposures: rename column and assign id\n",
    "exp_lp.gdf.rename(columns={\"impf_\": \"impf_\" + haz_type}, inplace=True)\n",
    "exp_lp.gdf['impf_' + haz_type] = haz_id\n",
    "exp_lp.check()"
   ]
  },
  {
   "cell_type": "markdown",
   "metadata": {},
   "source": [
    "## 3. Calculate direct, indirect and total impact per sector and country"
   ]
  },
  {
   "cell_type": "markdown",
   "metadata": {},
   "source": [
    "Let's now calculate direct, indirect and total impacts. For the **direct impact**, `SupplyChain` requires as inputs `Hazard`, `Exposures` and `ImpactFuncSet`. In addition, one may want to specify `selected_subsec`, which allows the user to either define her own aggregation of sectors by providing a list with the positions of the sectors to aggregate or to use built-in sectors aggregations passing a string being either `service`, `manufacturing`, `agriculture` or `mining`.\n",
    "\n",
    "For this tutorial, we will model the service sector, as this sector's exposure can reasonably be modelled via nightlights and population data, i.e. via `LitPop`."
   ]
  },
  {
   "cell_type": "markdown",
   "metadata": {},
   "source": [
    "### 3.1 Direct impact"
   ]
  },
  {
   "cell_type": "code",
   "execution_count": 30,
   "metadata": {
    "scrolled": true
   },
   "outputs": [
    {
     "name": "stdout",
     "output_type": "stream",
     "text": [
      "2022-05-18 14:34:04,517 - pinar.entity.exposures.base - INFO - category_id not set.\n",
      "2022-05-18 14:34:04,518 - pinar.entity.exposures.base - INFO - cover not set.\n",
      "2022-05-18 14:34:04,518 - pinar.entity.exposures.base - INFO - deductible not set.\n",
      "2022-05-18 14:34:04,518 - pinar.entity.exposures.base - INFO - centr_ not set.\n",
      "2022-05-18 14:34:04,520 - pinar.entity.exposures.base - INFO - Matching 14008 exposures with 52092 centroids.\n",
      "2022-05-18 14:34:04,521 - pinar.util.coordinates - INFO - No exact centroid match found. Reprojecting coordinates to nearest neighbor closer than the threshold = 100\n",
      "2022-05-18 14:34:04,559 - pinar.util.coordinates - WARNING - Distance to closest centroid is greater than 100km for 61 coordinates.\n",
      "2022-05-18 14:34:04,565 - pinar.engine.impact - INFO - Calculating damage for 13944 assets (>0) and 171116 events.\n",
      "2022-05-18 14:34:05,077 - pinar.entity.exposures.base - INFO - category_id not set.\n",
      "2022-05-18 14:34:05,078 - pinar.entity.exposures.base - INFO - cover not set.\n",
      "2022-05-18 14:34:05,078 - pinar.entity.exposures.base - INFO - deductible not set.\n",
      "2022-05-18 14:34:05,078 - pinar.entity.exposures.base - INFO - centr_ not set.\n",
      "2022-05-18 14:34:05,079 - pinar.entity.exposures.base - INFO - Matching 1852 exposures with 52092 centroids.\n",
      "2022-05-18 14:34:05,080 - pinar.util.coordinates - INFO - No exact centroid match found. Reprojecting coordinates to nearest neighbor closer than the threshold = 100\n",
      "2022-05-18 14:34:05,104 - pinar.engine.impact - INFO - Calculating damage for 1850 assets (>0) and 171116 events.\n",
      "2022-05-18 14:34:05,299 - pinar.entity.exposures.base - INFO - category_id not set.\n",
      "2022-05-18 14:34:05,300 - pinar.entity.exposures.base - INFO - cover not set.\n",
      "2022-05-18 14:34:05,300 - pinar.entity.exposures.base - INFO - deductible not set.\n",
      "2022-05-18 14:34:05,300 - pinar.entity.exposures.base - INFO - centr_ not set.\n",
      "2022-05-18 14:34:05,301 - pinar.entity.exposures.base - INFO - Matching 16092 exposures with 52092 centroids.\n",
      "2022-05-18 14:34:05,302 - pinar.util.coordinates - INFO - No exact centroid match found. Reprojecting coordinates to nearest neighbor closer than the threshold = 100\n",
      "2022-05-18 14:34:05,338 - pinar.engine.impact - INFO - Calculating damage for 16092 assets (>0) and 171116 events.\n",
      "2022-05-18 14:34:05,580 - pinar.entity.exposures.base - INFO - category_id not set.\n",
      "2022-05-18 14:34:05,580 - pinar.entity.exposures.base - INFO - cover not set.\n",
      "2022-05-18 14:34:05,580 - pinar.entity.exposures.base - INFO - deductible not set.\n",
      "2022-05-18 14:34:05,581 - pinar.entity.exposures.base - INFO - centr_ not set.\n",
      "2022-05-18 14:34:05,582 - pinar.entity.exposures.base - INFO - Matching 21999 exposures with 52092 centroids.\n",
      "2022-05-18 14:34:05,583 - pinar.util.coordinates - INFO - No exact centroid match found. Reprojecting coordinates to nearest neighbor closer than the threshold = 100\n",
      "2022-05-18 14:34:05,630 - pinar.util.coordinates - WARNING - Distance to closest centroid is greater than 100km for 155 coordinates.\n",
      "2022-05-18 14:34:05,633 - pinar.engine.impact - INFO - Calculating damage for 21839 assets (>0) and 171116 events.\n"
     ]
    }
   ],
   "source": [
    "supplychain.calc_sector_direct_impact(tc_cyclone, exp_lp, impf_set, selected_subsec='service')"
   ]
  },
  {
   "cell_type": "markdown",
   "metadata": {},
   "source": [
    "Let's see what new attributes the class has got now."
   ]
  },
  {
   "cell_type": "code",
   "execution_count": 31,
   "metadata": {},
   "outputs": [
    {
     "data": {
      "text/plain": [
       "array([[    0.        ,     0.        ,     0.        , ...,\n",
       "        23087.9543457 ,  1350.54381561,     0.        ],\n",
       "       [    0.        ,     0.        ,     0.        , ...,\n",
       "        22127.11016846,  1294.33857918,     0.        ],\n",
       "       [    0.        ,     0.        ,     0.        , ...,\n",
       "         6108.82322693,   357.33929634,     0.        ],\n",
       "       ...,\n",
       "       [    0.        ,     0.        ,     0.        , ...,\n",
       "        28564.30769587,  1670.88644018,     0.        ],\n",
       "       [    0.        ,     0.        ,     0.        , ...,\n",
       "        10012.92150116,   585.71188295,     0.        ],\n",
       "       [    0.        ,     0.        ,     0.        , ...,\n",
       "         8393.34371948,   490.97368622,     0.        ]])"
      ]
     },
     "execution_count": 31,
     "metadata": {},
     "output_type": "execute_result"
    }
   ],
   "source": [
    "supplychain.direct_impact"
   ]
  },
  {
   "cell_type": "code",
   "execution_count": 32,
   "metadata": {},
   "outputs": [
    {
     "data": {
      "text/plain": [
       "(41, 2464)"
      ]
     },
     "execution_count": 32,
     "metadata": {},
     "output_type": "execute_result"
    }
   ],
   "source": [
    "supplychain.direct_impact.shape"
   ]
  },
  {
   "cell_type": "markdown",
   "metadata": {},
   "source": [
    "All impact matrixes (also those below) provide impacts aggregated over years. They have a number of rows equal to the years being modeled (2 years this time, i.e. 2012-2013) and columns equal to the number of countries times the number of sectors.\n",
    ", i.e. 2464 (see also above)."
   ]
  },
  {
   "cell_type": "code",
   "execution_count": 33,
   "metadata": {},
   "outputs": [
    {
     "data": {
      "text/plain": [
       "array([    0.        ,     0.        ,     0.        , ...,\n",
       "       15666.02490373,   916.39352776,     0.        ])"
      ]
     },
     "execution_count": 33,
     "metadata": {},
     "output_type": "execute_result"
    }
   ],
   "source": [
    "supplychain.direct_aai_agg"
   ]
  },
  {
   "cell_type": "code",
   "execution_count": 34,
   "metadata": {},
   "outputs": [
    {
     "data": {
      "text/plain": [
       "(2464,)"
      ]
     },
     "execution_count": 34,
     "metadata": {},
     "output_type": "execute_result"
    }
   ],
   "source": [
    "supplychain.direct_aai_agg.shape"
   ]
  },
  {
   "cell_type": "markdown",
   "metadata": {},
   "source": [
    "The annual aggregated impact (aai) matrixes provide yearly average impact. They are row vectors with columns equal to the number of countries times the number of sectors, i.e. 2464."
   ]
  },
  {
   "cell_type": "markdown",
   "metadata": {},
   "source": [
    "Info for a given country can be accessed as done below:"
   ]
  },
  {
   "cell_type": "code",
   "execution_count": 35,
   "metadata": {},
   "outputs": [
    {
     "data": {
      "text/plain": [
       "array([0., 0., 0., 0., 0., 0., 0., 0., 0., 0., 0., 0., 0., 0., 0., 0., 0.,\n",
       "       0., 0., 0., 0., 0., 0., 0., 0., 0., 0., 0., 0., 0., 0., 0., 0., 0.,\n",
       "       0., 0., 0., 0., 0., 0., 0., 0., 0., 0., 0., 0., 0., 0., 0., 0., 0.,\n",
       "       0., 0., 0., 0., 0.])"
      ]
     },
     "execution_count": 35,
     "metadata": {},
     "output_type": "execute_result"
    }
   ],
   "source": [
    "supplychain.direct_aai_agg[supplychain.reg_pos['CHE']]"
   ]
  },
  {
   "cell_type": "markdown",
   "metadata": {},
   "source": [
    "with e.g. CHE, we obviously get zeros, as we are modeling direct impacts in east Asia."
   ]
  },
  {
   "cell_type": "code",
   "execution_count": 36,
   "metadata": {},
   "outputs": [
    {
     "data": {
      "text/plain": [
       "array([    0.        ,     0.        ,     0.        ,     0.        ,\n",
       "           0.        ,     0.        ,     0.        ,     0.        ,\n",
       "           0.        ,     0.        ,     0.        ,     0.        ,\n",
       "           0.        ,     0.        ,     0.        ,     0.        ,\n",
       "           0.        ,     0.        ,     0.        ,     0.        ,\n",
       "           0.        ,     0.        ,     0.        ,     0.        ,\n",
       "           0.        ,     0.        ,  9838.67109345,  8949.84687991,\n",
       "       26440.08161889,  6429.20487753, 11459.27526409,  4417.38472357,\n",
       "        1101.52394681,  4356.60720937,  1567.11646996, 10144.55649288,\n",
       "        2800.20977783,  4284.5898164 ,  8323.27804044,  8254.91025785,\n",
       "       23209.17844596,  2392.2124671 ,     0.        ,  3802.13646047,\n",
       "           0.        ,     0.        ,   952.56944787,  7309.97665108,\n",
       "       27510.87169815,  5758.44873345,  3362.80894805,   595.6510692 ,\n",
       "        2609.56072096,  3779.63408214,  4026.81882254,     0.        ])"
      ]
     },
     "execution_count": 36,
     "metadata": {},
     "output_type": "execute_result"
    }
   ],
   "source": [
    "supplychain.direct_aai_agg[supplychain.reg_pos['JPN']]"
   ]
  },
  {
   "cell_type": "markdown",
   "metadata": {},
   "source": [
    "for e.g. Japan we instead have direct damages. In order to get all positions of countries undergoing direct damages, one can access the following list:"
   ]
  },
  {
   "cell_type": "code",
   "execution_count": 37,
   "metadata": {},
   "outputs": [
    {
     "data": {
      "text/plain": [
       "['ROW', 'TWN', 'ROW', 'JPN']"
      ]
     },
     "execution_count": 37,
     "metadata": {},
     "output_type": "execute_result"
    }
   ],
   "source": [
    "supplychain.reg_dir_imp #note we have two ROW for PHL and VNM"
   ]
  },
  {
   "cell_type": "markdown",
   "metadata": {},
   "source": [
    "and do the following:"
   ]
  },
  {
   "cell_type": "code",
   "execution_count": 38,
   "metadata": {},
   "outputs": [],
   "source": [
    "all_pos = [y for cntry in np.unique(supplychain.reg_dir_imp) for y in supplychain.reg_pos[cntry]]"
   ]
  },
  {
   "cell_type": "code",
   "execution_count": 39,
   "metadata": {},
   "outputs": [
    {
     "name": "stdout",
     "output_type": "stream",
     "text": [
      "26504371.848759018 26504371.848759014\n"
     ]
    }
   ],
   "source": [
    "print(supplychain.direct_impact.sum(), supplychain.direct_impact[:, all_pos].sum())"
   ]
  },
  {
   "cell_type": "code",
   "execution_count": 40,
   "metadata": {},
   "outputs": [
    {
     "name": "stdout",
     "output_type": "stream",
     "text": [
      "646448.0938721711 646448.0938721711\n"
     ]
    }
   ],
   "source": [
    "print(supplychain.direct_aai_agg.sum(), supplychain.direct_aai_agg[all_pos].sum())"
   ]
  },
  {
   "cell_type": "markdown",
   "metadata": {},
   "source": [
    "i.e., the matrix has non-zero values only at positions corresponding to the modelled countries."
   ]
  },
  {
   "cell_type": "markdown",
   "metadata": {},
   "source": [
    "### 3.2 Indirect impact"
   ]
  },
  {
   "cell_type": "markdown",
   "metadata": {},
   "source": [
    "For the **indirect impact**, one can choose the IO modeling approach between Leontief, Ghosh and EEIOA. References are provided below:"
   ]
  },
  {
   "cell_type": "code",
   "execution_count": 41,
   "metadata": {},
   "outputs": [],
   "source": [
    "supplychain.calc_indirect_impact?"
   ]
  },
  {
   "cell_type": "markdown",
   "metadata": {},
   "source": [
    "Let's calculate indirect impacts according to the Ghosh method:"
   ]
  },
  {
   "cell_type": "code",
   "execution_count": 42,
   "metadata": {},
   "outputs": [
    {
     "name": "stderr",
     "output_type": "stream",
     "text": [
      "100%|█████████████████| 41/41 [00:54<00:00,  1.33s/it]\n"
     ]
    }
   ],
   "source": [
    "supplychain.calc_indirect_impact(io_approach='ghosh')"
   ]
  },
  {
   "cell_type": "markdown",
   "metadata": {},
   "source": [
    "The class now has the indirect impact matrix and vector, with structure equal to those introduced for the direct impact:"
   ]
  },
  {
   "cell_type": "code",
   "execution_count": 43,
   "metadata": {},
   "outputs": [
    {
     "data": {
      "text/plain": [
       "array([[7.4129967e+01, 3.3351808e+00, 3.9694197e+00, ..., 1.7156785e+04,\n",
       "        1.3505438e+03, 8.6859828e-01],\n",
       "       [6.9721062e+01, 3.1581292e+00, 3.7076104e+00, ..., 1.6379245e+04,\n",
       "        1.2943386e+03, 8.1573522e-01],\n",
       "       [2.5946911e+01, 1.1465709e+00, 1.4656199e+00, ..., 4.8063340e+03,\n",
       "        3.5733929e+02, 2.5262380e-01],\n",
       "       ...,\n",
       "       [9.1218567e+01, 4.1233449e+00, 4.8682852e+00, ..., 2.1197357e+04,\n",
       "        1.6708865e+03, 1.0603704e+00],\n",
       "       [3.3414661e+01, 1.5074041e+00, 1.7997495e+00, ..., 7.4902305e+03,\n",
       "        5.8571185e+02, 3.7547651e-01],\n",
       "       [2.5535261e+01, 1.1609610e+00, 1.3460040e+00, ..., 6.1741611e+03,\n",
       "        4.9097369e+02, 3.0542269e-01]], dtype=float32)"
      ]
     },
     "execution_count": 43,
     "metadata": {},
     "output_type": "execute_result"
    }
   ],
   "source": [
    "supplychain.indirect_impact"
   ]
  },
  {
   "cell_type": "code",
   "execution_count": 44,
   "metadata": {},
   "outputs": [
    {
     "data": {
      "text/plain": [
       "(41, 2464)"
      ]
     },
     "execution_count": 44,
     "metadata": {},
     "output_type": "execute_result"
    }
   ],
   "source": [
    "supplychain.indirect_impact.shape"
   ]
  },
  {
   "cell_type": "code",
   "execution_count": 45,
   "metadata": {},
   "outputs": [
    {
     "data": {
      "text/plain": [
       "array([5.2298084e+01, 2.3510237e+00, 2.8217690e+00, ..., 1.1723578e+04,\n",
       "       9.1639349e+02, 5.9329712e-01], dtype=float32)"
      ]
     },
     "execution_count": 45,
     "metadata": {},
     "output_type": "execute_result"
    }
   ],
   "source": [
    "supplychain.indirect_aai_agg"
   ]
  },
  {
   "cell_type": "markdown",
   "metadata": {},
   "source": [
    "If we now check damages for e.g. Switzerland:"
   ]
  },
  {
   "cell_type": "code",
   "execution_count": 46,
   "metadata": {},
   "outputs": [
    {
     "data": {
      "text/plain": [
       "array([6.12235594e+00, 3.36663336e-01, 9.98742506e-03, 1.73659015e+00,\n",
       "       2.55845985e+01, 3.70811987e+00, 4.22122002e+00, 3.10644650e+00,\n",
       "       2.95265079e+00, 5.08737135e+00, 2.18594189e+01, 7.76189194e+01,\n",
       "       6.58413935e+00, 5.79872036e+00, 7.58963156e+00, 1.46589947e+01,\n",
       "       5.87042923e+01, 2.18801537e+01, 2.19838810e+01, 1.57981372e+00,\n",
       "       5.01410246e+00, 1.16099319e+01, 3.48509812e+00, 5.96358185e+01,\n",
       "       5.92795801e+00, 0.00000000e+00, 4.02651863e+01, 7.14907074e+00,\n",
       "       9.24594803e+01, 1.79876347e+01, 4.73535080e+01, 1.15669584e+00,\n",
       "       1.95311852e+01, 1.77650127e+01, 7.38797903e+00, 1.34389677e+01,\n",
       "       9.68868828e+00, 0.00000000e+00, 1.03515415e+01, 4.68948784e+01,\n",
       "       3.43284149e+01, 3.92883453e+01, 0.00000000e+00, 2.01987476e+01,\n",
       "       2.34891510e+01, 0.00000000e+00, 1.41462479e+01, 0.00000000e+00,\n",
       "       9.75877476e+00, 2.01511478e+01, 2.47340012e+01, 9.80667591e+00,\n",
       "       2.73831367e+01, 1.20131302e+01, 0.00000000e+00, 0.00000000e+00],\n",
       "      dtype=float32)"
      ]
     },
     "execution_count": 46,
     "metadata": {},
     "output_type": "execute_result"
    }
   ],
   "source": [
    "supplychain.indirect_aai_agg[supplychain.reg_pos['CHE']]"
   ]
  },
  {
   "cell_type": "markdown",
   "metadata": {},
   "source": [
    "there are non-zero values, as CH undergoes indirect impacts due to events happening in east Asia."
   ]
  },
  {
   "cell_type": "markdown",
   "metadata": {},
   "source": [
    "We can also visualize coefficients, inverse matrix and risk matrix of the selected IO approach:"
   ]
  },
  {
   "cell_type": "code",
   "execution_count": 47,
   "metadata": {},
   "outputs": [
    {
     "data": {
      "text/plain": [
       "{'coefficients': array([[1.55292928e-01, 4.41463292e-03, 2.50902888e-03, ...,\n",
       "         1.27160543e-04, 0.00000000e+00, 1.66028979e-11],\n",
       "        [4.62851897e-02, 5.51640205e-02, 1.64963756e-04, ...,\n",
       "         6.37947051e-06, 0.00000000e+00, 1.15436055e-11],\n",
       "        [7.32246507e-03, 3.69836880e-06, 7.52862263e-03, ...,\n",
       "         7.99719510e-06, 0.00000000e+00, 9.63209113e-13],\n",
       "        ...,\n",
       "        [5.10453674e-06, 1.68568960e-07, 4.57865355e-07, ...,\n",
       "         3.88910100e-02, 0.00000000e+00, 1.92610537e-06],\n",
       "        [1.96250971e-06, 1.90349914e-09, 9.25952381e-09, ...,\n",
       "         0.00000000e+00, 0.00000000e+00, 0.00000000e+00],\n",
       "        [0.00000000e+00, 0.00000000e+00, 0.00000000e+00, ...,\n",
       "         0.00000000e+00, 0.00000000e+00, 0.00000000e+00]], dtype=float32),\n",
       " 'inverse': array([[1.1956462e+00, 5.6268987e-03, 3.4478118e-03, ..., 1.8672845e-03,\n",
       "         0.0000000e+00, 1.3596379e-07],\n",
       "        [7.2838165e-02, 1.0588253e+00, 7.4798276e-04, ..., 1.1149000e-03,\n",
       "         0.0000000e+00, 1.1273375e-07],\n",
       "        [1.4281658e-02, 1.1088801e-04, 1.0078237e+00, ..., 5.9475366e-04,\n",
       "         0.0000000e+00, 6.5748580e-08],\n",
       "        ...,\n",
       "        [9.0543799e-05, 5.0534527e-06, 5.3664330e-06, ..., 1.0438221e+00,\n",
       "         0.0000000e+00, 2.5101926e-06],\n",
       "        [4.3887998e-05, 1.0840827e-06, 2.1887270e-06, ..., 5.4405088e-04,\n",
       "         1.0000000e+00, 4.1392159e-08],\n",
       "        [0.0000000e+00, 0.0000000e+00, 0.0000000e+00, ..., 0.0000000e+00,\n",
       "         0.0000000e+00, 1.0000000e+00]], dtype=float32),\n",
       " 'risk_structure': array([[[0.0000000e+00, 0.0000000e+00, 0.0000000e+00, ...,\n",
       "          0.0000000e+00, 0.0000000e+00, 0.0000000e+00],\n",
       "         [0.0000000e+00, 0.0000000e+00, 0.0000000e+00, ...,\n",
       "          0.0000000e+00, 0.0000000e+00, 0.0000000e+00],\n",
       "         [0.0000000e+00, 0.0000000e+00, 0.0000000e+00, ...,\n",
       "          0.0000000e+00, 0.0000000e+00, 0.0000000e+00],\n",
       "         ...,\n",
       "         [0.0000000e+00, 0.0000000e+00, 0.0000000e+00, ...,\n",
       "          0.0000000e+00, 0.0000000e+00, 0.0000000e+00],\n",
       "         [0.0000000e+00, 0.0000000e+00, 0.0000000e+00, ...,\n",
       "          0.0000000e+00, 0.0000000e+00, 0.0000000e+00],\n",
       "         [0.0000000e+00, 0.0000000e+00, 0.0000000e+00, ...,\n",
       "          0.0000000e+00, 0.0000000e+00, 0.0000000e+00]],\n",
       " \n",
       "        [[0.0000000e+00, 0.0000000e+00, 0.0000000e+00, ...,\n",
       "          0.0000000e+00, 0.0000000e+00, 0.0000000e+00],\n",
       "         [0.0000000e+00, 0.0000000e+00, 0.0000000e+00, ...,\n",
       "          0.0000000e+00, 0.0000000e+00, 0.0000000e+00],\n",
       "         [0.0000000e+00, 0.0000000e+00, 0.0000000e+00, ...,\n",
       "          0.0000000e+00, 0.0000000e+00, 0.0000000e+00],\n",
       "         ...,\n",
       "         [0.0000000e+00, 0.0000000e+00, 0.0000000e+00, ...,\n",
       "          0.0000000e+00, 0.0000000e+00, 0.0000000e+00],\n",
       "         [0.0000000e+00, 0.0000000e+00, 0.0000000e+00, ...,\n",
       "          0.0000000e+00, 0.0000000e+00, 0.0000000e+00],\n",
       "         [0.0000000e+00, 0.0000000e+00, 0.0000000e+00, ...,\n",
       "          0.0000000e+00, 0.0000000e+00, 0.0000000e+00]],\n",
       " \n",
       "        [[0.0000000e+00, 0.0000000e+00, 0.0000000e+00, ...,\n",
       "          0.0000000e+00, 0.0000000e+00, 0.0000000e+00],\n",
       "         [0.0000000e+00, 0.0000000e+00, 0.0000000e+00, ...,\n",
       "          0.0000000e+00, 0.0000000e+00, 0.0000000e+00],\n",
       "         [0.0000000e+00, 0.0000000e+00, 0.0000000e+00, ...,\n",
       "          0.0000000e+00, 0.0000000e+00, 0.0000000e+00],\n",
       "         ...,\n",
       "         [0.0000000e+00, 0.0000000e+00, 0.0000000e+00, ...,\n",
       "          0.0000000e+00, 0.0000000e+00, 0.0000000e+00],\n",
       "         [0.0000000e+00, 0.0000000e+00, 0.0000000e+00, ...,\n",
       "          0.0000000e+00, 0.0000000e+00, 0.0000000e+00],\n",
       "         [0.0000000e+00, 0.0000000e+00, 0.0000000e+00, ...,\n",
       "          0.0000000e+00, 0.0000000e+00, 0.0000000e+00]],\n",
       " \n",
       "        ...,\n",
       " \n",
       "        [[1.0622725e+00, 1.0180643e+00, 2.8106582e-01, ...,\n",
       "          1.3142385e+00, 4.6069267e-01, 3.8617620e-01],\n",
       "         [5.9287813e-02, 5.6820452e-02, 1.5686914e-02, ...,\n",
       "          7.3350601e-02, 2.5712293e-02, 2.1553360e-02],\n",
       "         [6.2959746e-02, 6.0339566e-02, 1.6658468e-02, ...,\n",
       "          7.7893496e-02, 2.7304756e-02, 2.2888245e-02],\n",
       "         ...,\n",
       "         [1.2246267e+04, 1.1736617e+04, 3.2402297e+03, ...,\n",
       "          1.5151022e+04, 5.3110337e+03, 4.4519805e+03],\n",
       "         [0.0000000e+00, 0.0000000e+00, 0.0000000e+00, ...,\n",
       "          0.0000000e+00, 0.0000000e+00, 0.0000000e+00],\n",
       "         [2.9449932e-02, 2.8224323e-02, 7.7921338e-03, ...,\n",
       "          3.6435317e-02, 1.2772022e-02, 1.0706163e-02]],\n",
       " \n",
       "        [[5.9272666e-02, 5.6805927e-02, 1.5682906e-02, ...,\n",
       "          7.3331863e-02, 2.5705721e-02, 2.1547852e-02],\n",
       "         [1.4641011e-03, 1.4031701e-03, 3.8738534e-04, ...,\n",
       "          1.8113790e-03, 6.3496007e-04, 5.3225609e-04],\n",
       "         [2.9559718e-03, 2.8329538e-03, 7.8211818e-04, ...,\n",
       "          3.6571142e-03, 1.2819634e-03, 1.0746074e-03],\n",
       "         ...,\n",
       "         [7.3476458e-01, 7.0418602e-01, 1.9441076e-01, ...,\n",
       "          9.0904725e-01, 3.1865707e-01, 2.6711467e-01],\n",
       "         [1.3505438e+03, 1.2943386e+03, 3.5733929e+02, ...,\n",
       "          1.6708865e+03, 5.8571185e+02, 4.9097369e+02],\n",
       "         [5.5901924e-05, 5.3575470e-05, 1.4791045e-05, ...,\n",
       "          6.9161601e-05, 2.4243880e-05, 2.0322461e-05]],\n",
       " \n",
       "        [[0.0000000e+00, 0.0000000e+00, 0.0000000e+00, ...,\n",
       "          0.0000000e+00, 0.0000000e+00, 0.0000000e+00],\n",
       "         [0.0000000e+00, 0.0000000e+00, 0.0000000e+00, ...,\n",
       "          0.0000000e+00, 0.0000000e+00, 0.0000000e+00],\n",
       "         [0.0000000e+00, 0.0000000e+00, 0.0000000e+00, ...,\n",
       "          0.0000000e+00, 0.0000000e+00, 0.0000000e+00],\n",
       "         ...,\n",
       "         [0.0000000e+00, 0.0000000e+00, 0.0000000e+00, ...,\n",
       "          0.0000000e+00, 0.0000000e+00, 0.0000000e+00],\n",
       "         [0.0000000e+00, 0.0000000e+00, 0.0000000e+00, ...,\n",
       "          0.0000000e+00, 0.0000000e+00, 0.0000000e+00],\n",
       "         [0.0000000e+00, 0.0000000e+00, 0.0000000e+00, ...,\n",
       "          0.0000000e+00, 0.0000000e+00, 0.0000000e+00]]], dtype=float32),\n",
       " 'io_approach': 'ghosh'}"
      ]
     },
     "execution_count": 47,
     "metadata": {},
     "output_type": "execute_result"
    }
   ],
   "source": [
    "supplychain.io_data"
   ]
  },
  {
   "cell_type": "markdown",
   "metadata": {},
   "source": [
    "### 3.3 Total impact"
   ]
  },
  {
   "cell_type": "markdown",
   "metadata": {},
   "source": [
    "Finally, let's calculate **total impacts**, as the sum of both direct and indirect. Therefore, the impact matrixes have the same structure as the direct and indirect matrixes."
   ]
  },
  {
   "cell_type": "code",
   "execution_count": 48,
   "metadata": {},
   "outputs": [],
   "source": [
    "supplychain.calc_total_impact()"
   ]
  },
  {
   "cell_type": "code",
   "execution_count": 49,
   "metadata": {},
   "outputs": [
    {
     "data": {
      "text/plain": [
       "array([[7.41299667e+01, 3.33518076e+00, 3.96941972e+00, ...,\n",
       "        4.02447395e+04, 2.70108764e+03, 8.68598282e-01],\n",
       "       [6.97210617e+01, 3.15812922e+00, 3.70761037e+00, ...,\n",
       "        3.85063553e+04, 2.58867720e+03, 8.15735221e-01],\n",
       "       [2.59469109e+01, 1.14657092e+00, 1.46561992e+00, ...,\n",
       "        1.09151572e+04, 7.14678591e+02, 2.52623796e-01],\n",
       "       ...,\n",
       "       [9.12185669e+01, 4.12334490e+00, 4.86828518e+00, ...,\n",
       "        4.97616651e+04, 3.34177291e+03, 1.06037045e+00],\n",
       "       [3.34146614e+01, 1.50740409e+00, 1.79974949e+00, ...,\n",
       "        1.75031520e+04, 1.17142374e+03, 3.75476509e-01],\n",
       "       [2.55352612e+01, 1.16096103e+00, 1.34600401e+00, ...,\n",
       "        1.45675049e+04, 9.81947380e+02, 3.05422693e-01]])"
      ]
     },
     "execution_count": 49,
     "metadata": {},
     "output_type": "execute_result"
    }
   ],
   "source": [
    "supplychain.total_impact"
   ]
  },
  {
   "cell_type": "code",
   "execution_count": 50,
   "metadata": {},
   "outputs": [
    {
     "data": {
      "text/plain": [
       "array([5.22980898e+01, 2.35102410e+00, 2.82176930e+00, ...,\n",
       "       2.73896023e+04, 1.83278705e+03, 5.93297099e-01])"
      ]
     },
     "execution_count": 50,
     "metadata": {},
     "output_type": "execute_result"
    }
   ],
   "source": [
    "supplychain.total_aai_agg"
   ]
  },
  {
   "cell_type": "markdown",
   "metadata": {},
   "source": [
    "Finally, one can for example visualize total annual average impacts to all Japanese (direct plus indirect) and Swiss (only direct) subsector after TC in East Asia:"
   ]
  },
  {
   "cell_type": "code",
   "execution_count": 51,
   "metadata": {},
   "outputs": [],
   "source": [
    "df_imp = pd.DataFrame(data=np.vstack([supplychain.total_aai_agg[supplychain.reg_pos['CHE']],\n",
    "                                      supplychain.total_aai_agg[supplychain.reg_pos['JPN']]]), \n",
    "                      columns=supplychain.sectors,\n",
    "                      index=['CHE', 'JPN'])"
   ]
  },
  {
   "cell_type": "code",
   "execution_count": 52,
   "metadata": {},
   "outputs": [
    {
     "data": {
      "text/html": [
       "<div>\n",
       "<style scoped>\n",
       "    .dataframe tbody tr th:only-of-type {\n",
       "        vertical-align: middle;\n",
       "    }\n",
       "\n",
       "    .dataframe tbody tr th {\n",
       "        vertical-align: top;\n",
       "    }\n",
       "\n",
       "    .dataframe thead th {\n",
       "        text-align: right;\n",
       "    }\n",
       "</style>\n",
       "<table border=\"1\" class=\"dataframe\">\n",
       "  <thead>\n",
       "    <tr style=\"text-align: right;\">\n",
       "      <th></th>\n",
       "      <th>Crop and animal production, hunting and related service activities</th>\n",
       "      <th>Forestry and logging</th>\n",
       "      <th>Fishing and aquaculture</th>\n",
       "      <th>Mining and quarrying</th>\n",
       "      <th>Manufacture of food products, beverages and tobacco products</th>\n",
       "      <th>Manufacture of textiles, wearing apparel and leather products</th>\n",
       "      <th>Manufacture of wood and of products of wood and cork, except furniture; manufacture of articles of straw and plaiting materials</th>\n",
       "      <th>Manufacture of paper and paper products</th>\n",
       "      <th>Printing and reproduction of recorded media</th>\n",
       "      <th>Manufacture of coke and refined petroleum products</th>\n",
       "      <th>...</th>\n",
       "      <th>Scientific research and development</th>\n",
       "      <th>Advertising and market research</th>\n",
       "      <th>Other professional, scientific and technical activities; veterinary activities</th>\n",
       "      <th>Administrative and support service activities</th>\n",
       "      <th>Public administration and defence; compulsory social security</th>\n",
       "      <th>Education</th>\n",
       "      <th>Human health and social work activities</th>\n",
       "      <th>Other service activities</th>\n",
       "      <th>Activities of households as employers; undifferentiated goods- and services-producing activities of households for own use</th>\n",
       "      <th>Activities of extraterritorial organizations and bodies</th>\n",
       "    </tr>\n",
       "  </thead>\n",
       "  <tbody>\n",
       "    <tr>\n",
       "      <th>CHE</th>\n",
       "      <td>6.122356</td>\n",
       "      <td>0.336663</td>\n",
       "      <td>0.009987</td>\n",
       "      <td>1.736590</td>\n",
       "      <td>25.584600</td>\n",
       "      <td>3.708121</td>\n",
       "      <td>4.221220</td>\n",
       "      <td>3.106446</td>\n",
       "      <td>2.952651</td>\n",
       "      <td>5.087370</td>\n",
       "      <td>...</td>\n",
       "      <td>14.146247</td>\n",
       "      <td>0.00000</td>\n",
       "      <td>9.758774</td>\n",
       "      <td>20.151147</td>\n",
       "      <td>24.734004</td>\n",
       "      <td>9.806676</td>\n",
       "      <td>27.383137</td>\n",
       "      <td>12.013128</td>\n",
       "      <td>0.000000</td>\n",
       "      <td>0.0</td>\n",
       "    </tr>\n",
       "    <tr>\n",
       "      <th>JPN</th>\n",
       "      <td>1025.912033</td>\n",
       "      <td>98.710680</td>\n",
       "      <td>174.078795</td>\n",
       "      <td>504.574508</td>\n",
       "      <td>4522.040574</td>\n",
       "      <td>692.008433</td>\n",
       "      <td>254.184234</td>\n",
       "      <td>1289.234507</td>\n",
       "      <td>666.834182</td>\n",
       "      <td>1060.231072</td>\n",
       "      <td>...</td>\n",
       "      <td>1931.814146</td>\n",
       "      <td>11785.17252</td>\n",
       "      <td>52156.217260</td>\n",
       "      <td>10713.789611</td>\n",
       "      <td>12304.570882</td>\n",
       "      <td>2367.990215</td>\n",
       "      <td>10929.705709</td>\n",
       "      <td>8919.787116</td>\n",
       "      <td>6088.317831</td>\n",
       "      <td>0.0</td>\n",
       "    </tr>\n",
       "  </tbody>\n",
       "</table>\n",
       "<p>2 rows × 56 columns</p>\n",
       "</div>"
      ],
      "text/plain": [
       "     Crop and animal production, hunting and related service activities  \\\n",
       "CHE                                           6.122356                    \n",
       "JPN                                        1025.912033                    \n",
       "\n",
       "     Forestry and logging  Fishing and aquaculture  Mining and quarrying  \\\n",
       "CHE              0.336663                 0.009987              1.736590   \n",
       "JPN             98.710680               174.078795            504.574508   \n",
       "\n",
       "     Manufacture of food products, beverages and tobacco products  \\\n",
       "CHE                                          25.584600              \n",
       "JPN                                        4522.040574              \n",
       "\n",
       "     Manufacture of textiles, wearing apparel and leather products  \\\n",
       "CHE                                           3.708121               \n",
       "JPN                                         692.008433               \n",
       "\n",
       "     Manufacture of wood and of products of wood and cork, except furniture; manufacture of articles of straw and plaiting materials  \\\n",
       "CHE                                           4.221220                                                                                 \n",
       "JPN                                         254.184234                                                                                 \n",
       "\n",
       "     Manufacture of paper and paper products  \\\n",
       "CHE                                 3.106446   \n",
       "JPN                              1289.234507   \n",
       "\n",
       "     Printing and reproduction of recorded media  \\\n",
       "CHE                                     2.952651   \n",
       "JPN                                   666.834182   \n",
       "\n",
       "     Manufacture of coke and refined petroleum products   ...  \\\n",
       "CHE                                           5.087370    ...   \n",
       "JPN                                        1060.231072    ...   \n",
       "\n",
       "     Scientific research and development  Advertising and market research  \\\n",
       "CHE                            14.146247                          0.00000   \n",
       "JPN                          1931.814146                      11785.17252   \n",
       "\n",
       "     Other professional, scientific and technical activities; veterinary activities  \\\n",
       "CHE                                           9.758774                                \n",
       "JPN                                       52156.217260                                \n",
       "\n",
       "     Administrative and support service activities  \\\n",
       "CHE                                      20.151147   \n",
       "JPN                                   10713.789611   \n",
       "\n",
       "     Public administration and defence; compulsory social security  \\\n",
       "CHE                                          24.734004               \n",
       "JPN                                       12304.570882               \n",
       "\n",
       "       Education  Human health and social work activities  \\\n",
       "CHE     9.806676                                27.383137   \n",
       "JPN  2367.990215                             10929.705709   \n",
       "\n",
       "     Other service activities  \\\n",
       "CHE                 12.013128   \n",
       "JPN               8919.787116   \n",
       "\n",
       "     Activities of households as employers; undifferentiated goods- and services-producing activities of households for own use  \\\n",
       "CHE                                           0.000000                                                                            \n",
       "JPN                                        6088.317831                                                                            \n",
       "\n",
       "     Activities of extraterritorial organizations and bodies  \n",
       "CHE                                                0.0        \n",
       "JPN                                                0.0        \n",
       "\n",
       "[2 rows x 56 columns]"
      ]
     },
     "execution_count": 52,
     "metadata": {},
     "output_type": "execute_result"
    }
   ],
   "source": [
    "df_imp #in M USD"
   ]
  }
 ],
 "metadata": {
  "interpreter": {
   "hash": "60899172d5b3dd24580c9cdc3fca53b3e11dfc8ea491499daf201cb1e18baeb8"
  },
  "kernelspec": {
   "display_name": "Python 3.8.12 ('pinar_env')",
   "language": "python",
   "name": "python3"
  },
  "language_info": {
   "codemirror_mode": {
    "name": "ipython",
    "version": 3
   },
   "file_extension": ".py",
   "mimetype": "text/x-python",
   "name": "python",
   "nbconvert_exporter": "python",
   "pygments_lexer": "ipython3",
   "version": "3.8.12"
  }
 },
 "nbformat": 4,
 "nbformat_minor": 4
}
